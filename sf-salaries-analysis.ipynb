{
 "cells": [
  {
   "cell_type": "markdown",
   "id": "257095b6",
   "metadata": {
    "papermill": {
     "duration": 0.013453,
     "end_time": "2024-03-14T17:59:23.671058",
     "exception": false,
     "start_time": "2024-03-14T17:59:23.657605",
     "status": "completed"
    },
    "tags": []
   },
   "source": [
    "# SF Salaries Exercise \n",
    "\n"
   ]
  },
  {
   "cell_type": "markdown",
   "id": "b62428d4",
   "metadata": {
    "papermill": {
     "duration": 0.011054,
     "end_time": "2024-03-14T17:59:23.694081",
     "exception": false,
     "start_time": "2024-03-14T17:59:23.683027",
     "status": "completed"
    },
    "tags": []
   },
   "source": [
    "** Importing pandas as pd.**"
   ]
  },
  {
   "cell_type": "code",
   "execution_count": 1,
   "id": "190ab9f7",
   "metadata": {
    "execution": {
     "iopub.execute_input": "2024-03-14T17:59:23.718259Z",
     "iopub.status.busy": "2024-03-14T17:59:23.717483Z",
     "iopub.status.idle": "2024-03-14T17:59:24.636346Z",
     "shell.execute_reply": "2024-03-14T17:59:24.634953Z"
    },
    "papermill": {
     "duration": 0.934795,
     "end_time": "2024-03-14T17:59:24.639750",
     "exception": false,
     "start_time": "2024-03-14T17:59:23.704955",
     "status": "completed"
    },
    "tags": []
   },
   "outputs": [],
   "source": [
    "import pandas as pd"
   ]
  },
  {
   "cell_type": "markdown",
   "id": "1f4fd4c4",
   "metadata": {
    "papermill": {
     "duration": 0.010679,
     "end_time": "2024-03-14T17:59:24.661738",
     "exception": false,
     "start_time": "2024-03-14T17:59:24.651059",
     "status": "completed"
    },
    "tags": []
   },
   "source": [
    "** Reading Salaries.csv as a dataframe called sal.**"
   ]
  },
  {
   "cell_type": "code",
   "execution_count": 2,
   "id": "10009598",
   "metadata": {
    "execution": {
     "iopub.execute_input": "2024-03-14T17:59:24.686591Z",
     "iopub.status.busy": "2024-03-14T17:59:24.685757Z",
     "iopub.status.idle": "2024-03-14T17:59:25.306287Z",
     "shell.execute_reply": "2024-03-14T17:59:25.305201Z"
    },
    "papermill": {
     "duration": 0.636144,
     "end_time": "2024-03-14T17:59:25.309126",
     "exception": false,
     "start_time": "2024-03-14T17:59:24.672982",
     "status": "completed"
    },
    "tags": []
   },
   "outputs": [],
   "source": [
    "df=pd.read_csv('/kaggle/input/salaries-analysis/Salaries.csv')"
   ]
  },
  {
   "cell_type": "markdown",
   "id": "16e951a2",
   "metadata": {
    "papermill": {
     "duration": 0.010475,
     "end_time": "2024-03-14T17:59:25.330465",
     "exception": false,
     "start_time": "2024-03-14T17:59:25.319990",
     "status": "completed"
    },
    "tags": []
   },
   "source": [
    "** Checking the head of the DataFrame. **"
   ]
  },
  {
   "cell_type": "code",
   "execution_count": 3,
   "id": "b6e9698e",
   "metadata": {
    "execution": {
     "iopub.execute_input": "2024-03-14T17:59:25.354970Z",
     "iopub.status.busy": "2024-03-14T17:59:25.354236Z",
     "iopub.status.idle": "2024-03-14T17:59:25.390721Z",
     "shell.execute_reply": "2024-03-14T17:59:25.389449Z"
    },
    "papermill": {
     "duration": 0.0523,
     "end_time": "2024-03-14T17:59:25.393504",
     "exception": false,
     "start_time": "2024-03-14T17:59:25.341204",
     "status": "completed"
    },
    "tags": []
   },
   "outputs": [
    {
     "data": {
      "text/html": [
       "<div>\n",
       "<style scoped>\n",
       "    .dataframe tbody tr th:only-of-type {\n",
       "        vertical-align: middle;\n",
       "    }\n",
       "\n",
       "    .dataframe tbody tr th {\n",
       "        vertical-align: top;\n",
       "    }\n",
       "\n",
       "    .dataframe thead th {\n",
       "        text-align: right;\n",
       "    }\n",
       "</style>\n",
       "<table border=\"1\" class=\"dataframe\">\n",
       "  <thead>\n",
       "    <tr style=\"text-align: right;\">\n",
       "      <th></th>\n",
       "      <th>Id</th>\n",
       "      <th>EmployeeName</th>\n",
       "      <th>JobTitle</th>\n",
       "      <th>BasePay</th>\n",
       "      <th>OvertimePay</th>\n",
       "      <th>OtherPay</th>\n",
       "      <th>Benefits</th>\n",
       "      <th>TotalPay</th>\n",
       "      <th>TotalPayBenefits</th>\n",
       "      <th>Year</th>\n",
       "      <th>Notes</th>\n",
       "      <th>Agency</th>\n",
       "      <th>Status</th>\n",
       "    </tr>\n",
       "  </thead>\n",
       "  <tbody>\n",
       "    <tr>\n",
       "      <th>0</th>\n",
       "      <td>1</td>\n",
       "      <td>NATHANIEL FORD</td>\n",
       "      <td>GENERAL MANAGER-METROPOLITAN TRANSIT AUTHORITY</td>\n",
       "      <td>167411.18</td>\n",
       "      <td>0.00</td>\n",
       "      <td>400184.25</td>\n",
       "      <td>NaN</td>\n",
       "      <td>567595.43</td>\n",
       "      <td>567595.43</td>\n",
       "      <td>2011</td>\n",
       "      <td>NaN</td>\n",
       "      <td>San Francisco</td>\n",
       "      <td>NaN</td>\n",
       "    </tr>\n",
       "    <tr>\n",
       "      <th>1</th>\n",
       "      <td>2</td>\n",
       "      <td>GARY JIMENEZ</td>\n",
       "      <td>CAPTAIN III (POLICE DEPARTMENT)</td>\n",
       "      <td>155966.02</td>\n",
       "      <td>245131.88</td>\n",
       "      <td>137811.38</td>\n",
       "      <td>NaN</td>\n",
       "      <td>538909.28</td>\n",
       "      <td>538909.28</td>\n",
       "      <td>2011</td>\n",
       "      <td>NaN</td>\n",
       "      <td>San Francisco</td>\n",
       "      <td>NaN</td>\n",
       "    </tr>\n",
       "    <tr>\n",
       "      <th>2</th>\n",
       "      <td>3</td>\n",
       "      <td>ALBERT PARDINI</td>\n",
       "      <td>CAPTAIN III (POLICE DEPARTMENT)</td>\n",
       "      <td>212739.13</td>\n",
       "      <td>106088.18</td>\n",
       "      <td>16452.60</td>\n",
       "      <td>NaN</td>\n",
       "      <td>335279.91</td>\n",
       "      <td>335279.91</td>\n",
       "      <td>2011</td>\n",
       "      <td>NaN</td>\n",
       "      <td>San Francisco</td>\n",
       "      <td>NaN</td>\n",
       "    </tr>\n",
       "    <tr>\n",
       "      <th>3</th>\n",
       "      <td>4</td>\n",
       "      <td>CHRISTOPHER CHONG</td>\n",
       "      <td>WIRE ROPE CABLE MAINTENANCE MECHANIC</td>\n",
       "      <td>77916.00</td>\n",
       "      <td>56120.71</td>\n",
       "      <td>198306.90</td>\n",
       "      <td>NaN</td>\n",
       "      <td>332343.61</td>\n",
       "      <td>332343.61</td>\n",
       "      <td>2011</td>\n",
       "      <td>NaN</td>\n",
       "      <td>San Francisco</td>\n",
       "      <td>NaN</td>\n",
       "    </tr>\n",
       "    <tr>\n",
       "      <th>4</th>\n",
       "      <td>5</td>\n",
       "      <td>PATRICK GARDNER</td>\n",
       "      <td>DEPUTY CHIEF OF DEPARTMENT,(FIRE DEPARTMENT)</td>\n",
       "      <td>134401.60</td>\n",
       "      <td>9737.00</td>\n",
       "      <td>182234.59</td>\n",
       "      <td>NaN</td>\n",
       "      <td>326373.19</td>\n",
       "      <td>326373.19</td>\n",
       "      <td>2011</td>\n",
       "      <td>NaN</td>\n",
       "      <td>San Francisco</td>\n",
       "      <td>NaN</td>\n",
       "    </tr>\n",
       "    <tr>\n",
       "      <th>...</th>\n",
       "      <td>...</td>\n",
       "      <td>...</td>\n",
       "      <td>...</td>\n",
       "      <td>...</td>\n",
       "      <td>...</td>\n",
       "      <td>...</td>\n",
       "      <td>...</td>\n",
       "      <td>...</td>\n",
       "      <td>...</td>\n",
       "      <td>...</td>\n",
       "      <td>...</td>\n",
       "      <td>...</td>\n",
       "      <td>...</td>\n",
       "    </tr>\n",
       "    <tr>\n",
       "      <th>148649</th>\n",
       "      <td>148650</td>\n",
       "      <td>Roy I Tillery</td>\n",
       "      <td>Custodian</td>\n",
       "      <td>0.00</td>\n",
       "      <td>0.00</td>\n",
       "      <td>0.00</td>\n",
       "      <td>0.0</td>\n",
       "      <td>0.00</td>\n",
       "      <td>0.00</td>\n",
       "      <td>2014</td>\n",
       "      <td>NaN</td>\n",
       "      <td>San Francisco</td>\n",
       "      <td>NaN</td>\n",
       "    </tr>\n",
       "    <tr>\n",
       "      <th>148650</th>\n",
       "      <td>148651</td>\n",
       "      <td>Not provided</td>\n",
       "      <td>Not provided</td>\n",
       "      <td>NaN</td>\n",
       "      <td>NaN</td>\n",
       "      <td>NaN</td>\n",
       "      <td>NaN</td>\n",
       "      <td>0.00</td>\n",
       "      <td>0.00</td>\n",
       "      <td>2014</td>\n",
       "      <td>NaN</td>\n",
       "      <td>San Francisco</td>\n",
       "      <td>NaN</td>\n",
       "    </tr>\n",
       "    <tr>\n",
       "      <th>148651</th>\n",
       "      <td>148652</td>\n",
       "      <td>Not provided</td>\n",
       "      <td>Not provided</td>\n",
       "      <td>NaN</td>\n",
       "      <td>NaN</td>\n",
       "      <td>NaN</td>\n",
       "      <td>NaN</td>\n",
       "      <td>0.00</td>\n",
       "      <td>0.00</td>\n",
       "      <td>2014</td>\n",
       "      <td>NaN</td>\n",
       "      <td>San Francisco</td>\n",
       "      <td>NaN</td>\n",
       "    </tr>\n",
       "    <tr>\n",
       "      <th>148652</th>\n",
       "      <td>148653</td>\n",
       "      <td>Not provided</td>\n",
       "      <td>Not provided</td>\n",
       "      <td>NaN</td>\n",
       "      <td>NaN</td>\n",
       "      <td>NaN</td>\n",
       "      <td>NaN</td>\n",
       "      <td>0.00</td>\n",
       "      <td>0.00</td>\n",
       "      <td>2014</td>\n",
       "      <td>NaN</td>\n",
       "      <td>San Francisco</td>\n",
       "      <td>NaN</td>\n",
       "    </tr>\n",
       "    <tr>\n",
       "      <th>148653</th>\n",
       "      <td>148654</td>\n",
       "      <td>Joe Lopez</td>\n",
       "      <td>Counselor, Log Cabin Ranch</td>\n",
       "      <td>0.00</td>\n",
       "      <td>0.00</td>\n",
       "      <td>-618.13</td>\n",
       "      <td>0.0</td>\n",
       "      <td>-618.13</td>\n",
       "      <td>-618.13</td>\n",
       "      <td>2014</td>\n",
       "      <td>NaN</td>\n",
       "      <td>San Francisco</td>\n",
       "      <td>NaN</td>\n",
       "    </tr>\n",
       "  </tbody>\n",
       "</table>\n",
       "<p>148654 rows × 13 columns</p>\n",
       "</div>"
      ],
      "text/plain": [
       "            Id       EmployeeName  \\\n",
       "0            1     NATHANIEL FORD   \n",
       "1            2       GARY JIMENEZ   \n",
       "2            3     ALBERT PARDINI   \n",
       "3            4  CHRISTOPHER CHONG   \n",
       "4            5    PATRICK GARDNER   \n",
       "...        ...                ...   \n",
       "148649  148650      Roy I Tillery   \n",
       "148650  148651       Not provided   \n",
       "148651  148652       Not provided   \n",
       "148652  148653       Not provided   \n",
       "148653  148654          Joe Lopez   \n",
       "\n",
       "                                              JobTitle    BasePay  \\\n",
       "0       GENERAL MANAGER-METROPOLITAN TRANSIT AUTHORITY  167411.18   \n",
       "1                      CAPTAIN III (POLICE DEPARTMENT)  155966.02   \n",
       "2                      CAPTAIN III (POLICE DEPARTMENT)  212739.13   \n",
       "3                 WIRE ROPE CABLE MAINTENANCE MECHANIC   77916.00   \n",
       "4         DEPUTY CHIEF OF DEPARTMENT,(FIRE DEPARTMENT)  134401.60   \n",
       "...                                                ...        ...   \n",
       "148649                                       Custodian       0.00   \n",
       "148650                                    Not provided        NaN   \n",
       "148651                                    Not provided        NaN   \n",
       "148652                                    Not provided        NaN   \n",
       "148653                      Counselor, Log Cabin Ranch       0.00   \n",
       "\n",
       "        OvertimePay   OtherPay  Benefits   TotalPay  TotalPayBenefits  Year  \\\n",
       "0              0.00  400184.25       NaN  567595.43         567595.43  2011   \n",
       "1         245131.88  137811.38       NaN  538909.28         538909.28  2011   \n",
       "2         106088.18   16452.60       NaN  335279.91         335279.91  2011   \n",
       "3          56120.71  198306.90       NaN  332343.61         332343.61  2011   \n",
       "4           9737.00  182234.59       NaN  326373.19         326373.19  2011   \n",
       "...             ...        ...       ...        ...               ...   ...   \n",
       "148649         0.00       0.00       0.0       0.00              0.00  2014   \n",
       "148650          NaN        NaN       NaN       0.00              0.00  2014   \n",
       "148651          NaN        NaN       NaN       0.00              0.00  2014   \n",
       "148652          NaN        NaN       NaN       0.00              0.00  2014   \n",
       "148653         0.00    -618.13       0.0    -618.13           -618.13  2014   \n",
       "\n",
       "        Notes         Agency  Status  \n",
       "0         NaN  San Francisco     NaN  \n",
       "1         NaN  San Francisco     NaN  \n",
       "2         NaN  San Francisco     NaN  \n",
       "3         NaN  San Francisco     NaN  \n",
       "4         NaN  San Francisco     NaN  \n",
       "...       ...            ...     ...  \n",
       "148649    NaN  San Francisco     NaN  \n",
       "148650    NaN  San Francisco     NaN  \n",
       "148651    NaN  San Francisco     NaN  \n",
       "148652    NaN  San Francisco     NaN  \n",
       "148653    NaN  San Francisco     NaN  \n",
       "\n",
       "[148654 rows x 13 columns]"
      ]
     },
     "execution_count": 3,
     "metadata": {},
     "output_type": "execute_result"
    }
   ],
   "source": [
    "df"
   ]
  },
  {
   "cell_type": "code",
   "execution_count": 4,
   "id": "3c0840a1",
   "metadata": {
    "execution": {
     "iopub.execute_input": "2024-03-14T17:59:25.419890Z",
     "iopub.status.busy": "2024-03-14T17:59:25.419458Z",
     "iopub.status.idle": "2024-03-14T17:59:25.424807Z",
     "shell.execute_reply": "2024-03-14T17:59:25.423580Z"
    },
    "papermill": {
     "duration": 0.022224,
     "end_time": "2024-03-14T17:59:25.427196",
     "exception": false,
     "start_time": "2024-03-14T17:59:25.404972",
     "status": "completed"
    },
    "tags": []
   },
   "outputs": [],
   "source": [
    "pd.set_option('display.max_rows',None)\n",
    "pd.set_option('display.max_columns',None)"
   ]
  },
  {
   "cell_type": "code",
   "execution_count": 5,
   "id": "674d1d62",
   "metadata": {
    "execution": {
     "iopub.execute_input": "2024-03-14T17:59:25.451723Z",
     "iopub.status.busy": "2024-03-14T17:59:25.451260Z",
     "iopub.status.idle": "2024-03-14T17:59:25.471787Z",
     "shell.execute_reply": "2024-03-14T17:59:25.470916Z"
    },
    "papermill": {
     "duration": 0.035294,
     "end_time": "2024-03-14T17:59:25.473857",
     "exception": false,
     "start_time": "2024-03-14T17:59:25.438563",
     "status": "completed"
    },
    "tags": []
   },
   "outputs": [
    {
     "data": {
      "text/html": [
       "<div>\n",
       "<style scoped>\n",
       "    .dataframe tbody tr th:only-of-type {\n",
       "        vertical-align: middle;\n",
       "    }\n",
       "\n",
       "    .dataframe tbody tr th {\n",
       "        vertical-align: top;\n",
       "    }\n",
       "\n",
       "    .dataframe thead th {\n",
       "        text-align: right;\n",
       "    }\n",
       "</style>\n",
       "<table border=\"1\" class=\"dataframe\">\n",
       "  <thead>\n",
       "    <tr style=\"text-align: right;\">\n",
       "      <th></th>\n",
       "      <th>Id</th>\n",
       "      <th>EmployeeName</th>\n",
       "      <th>JobTitle</th>\n",
       "      <th>BasePay</th>\n",
       "      <th>OvertimePay</th>\n",
       "      <th>OtherPay</th>\n",
       "      <th>Benefits</th>\n",
       "      <th>TotalPay</th>\n",
       "      <th>TotalPayBenefits</th>\n",
       "      <th>Year</th>\n",
       "      <th>Notes</th>\n",
       "      <th>Agency</th>\n",
       "      <th>Status</th>\n",
       "    </tr>\n",
       "  </thead>\n",
       "  <tbody>\n",
       "    <tr>\n",
       "      <th>0</th>\n",
       "      <td>1</td>\n",
       "      <td>NATHANIEL FORD</td>\n",
       "      <td>GENERAL MANAGER-METROPOLITAN TRANSIT AUTHORITY</td>\n",
       "      <td>167411.18</td>\n",
       "      <td>0.00</td>\n",
       "      <td>400184.25</td>\n",
       "      <td>NaN</td>\n",
       "      <td>567595.43</td>\n",
       "      <td>567595.43</td>\n",
       "      <td>2011</td>\n",
       "      <td>NaN</td>\n",
       "      <td>San Francisco</td>\n",
       "      <td>NaN</td>\n",
       "    </tr>\n",
       "    <tr>\n",
       "      <th>1</th>\n",
       "      <td>2</td>\n",
       "      <td>GARY JIMENEZ</td>\n",
       "      <td>CAPTAIN III (POLICE DEPARTMENT)</td>\n",
       "      <td>155966.02</td>\n",
       "      <td>245131.88</td>\n",
       "      <td>137811.38</td>\n",
       "      <td>NaN</td>\n",
       "      <td>538909.28</td>\n",
       "      <td>538909.28</td>\n",
       "      <td>2011</td>\n",
       "      <td>NaN</td>\n",
       "      <td>San Francisco</td>\n",
       "      <td>NaN</td>\n",
       "    </tr>\n",
       "    <tr>\n",
       "      <th>2</th>\n",
       "      <td>3</td>\n",
       "      <td>ALBERT PARDINI</td>\n",
       "      <td>CAPTAIN III (POLICE DEPARTMENT)</td>\n",
       "      <td>212739.13</td>\n",
       "      <td>106088.18</td>\n",
       "      <td>16452.60</td>\n",
       "      <td>NaN</td>\n",
       "      <td>335279.91</td>\n",
       "      <td>335279.91</td>\n",
       "      <td>2011</td>\n",
       "      <td>NaN</td>\n",
       "      <td>San Francisco</td>\n",
       "      <td>NaN</td>\n",
       "    </tr>\n",
       "    <tr>\n",
       "      <th>3</th>\n",
       "      <td>4</td>\n",
       "      <td>CHRISTOPHER CHONG</td>\n",
       "      <td>WIRE ROPE CABLE MAINTENANCE MECHANIC</td>\n",
       "      <td>77916.00</td>\n",
       "      <td>56120.71</td>\n",
       "      <td>198306.90</td>\n",
       "      <td>NaN</td>\n",
       "      <td>332343.61</td>\n",
       "      <td>332343.61</td>\n",
       "      <td>2011</td>\n",
       "      <td>NaN</td>\n",
       "      <td>San Francisco</td>\n",
       "      <td>NaN</td>\n",
       "    </tr>\n",
       "    <tr>\n",
       "      <th>4</th>\n",
       "      <td>5</td>\n",
       "      <td>PATRICK GARDNER</td>\n",
       "      <td>DEPUTY CHIEF OF DEPARTMENT,(FIRE DEPARTMENT)</td>\n",
       "      <td>134401.60</td>\n",
       "      <td>9737.00</td>\n",
       "      <td>182234.59</td>\n",
       "      <td>NaN</td>\n",
       "      <td>326373.19</td>\n",
       "      <td>326373.19</td>\n",
       "      <td>2011</td>\n",
       "      <td>NaN</td>\n",
       "      <td>San Francisco</td>\n",
       "      <td>NaN</td>\n",
       "    </tr>\n",
       "  </tbody>\n",
       "</table>\n",
       "</div>"
      ],
      "text/plain": [
       "   Id       EmployeeName                                        JobTitle  \\\n",
       "0   1     NATHANIEL FORD  GENERAL MANAGER-METROPOLITAN TRANSIT AUTHORITY   \n",
       "1   2       GARY JIMENEZ                 CAPTAIN III (POLICE DEPARTMENT)   \n",
       "2   3     ALBERT PARDINI                 CAPTAIN III (POLICE DEPARTMENT)   \n",
       "3   4  CHRISTOPHER CHONG            WIRE ROPE CABLE MAINTENANCE MECHANIC   \n",
       "4   5    PATRICK GARDNER    DEPUTY CHIEF OF DEPARTMENT,(FIRE DEPARTMENT)   \n",
       "\n",
       "     BasePay  OvertimePay   OtherPay  Benefits   TotalPay  TotalPayBenefits  \\\n",
       "0  167411.18         0.00  400184.25       NaN  567595.43         567595.43   \n",
       "1  155966.02    245131.88  137811.38       NaN  538909.28         538909.28   \n",
       "2  212739.13    106088.18   16452.60       NaN  335279.91         335279.91   \n",
       "3   77916.00     56120.71  198306.90       NaN  332343.61         332343.61   \n",
       "4  134401.60      9737.00  182234.59       NaN  326373.19         326373.19   \n",
       "\n",
       "   Year  Notes         Agency  Status  \n",
       "0  2011    NaN  San Francisco     NaN  \n",
       "1  2011    NaN  San Francisco     NaN  \n",
       "2  2011    NaN  San Francisco     NaN  \n",
       "3  2011    NaN  San Francisco     NaN  \n",
       "4  2011    NaN  San Francisco     NaN  "
      ]
     },
     "execution_count": 5,
     "metadata": {},
     "output_type": "execute_result"
    }
   ],
   "source": [
    "df.head()"
   ]
  },
  {
   "cell_type": "code",
   "execution_count": 6,
   "id": "f135caf9",
   "metadata": {
    "execution": {
     "iopub.execute_input": "2024-03-14T17:59:25.499938Z",
     "iopub.status.busy": "2024-03-14T17:59:25.498957Z",
     "iopub.status.idle": "2024-03-14T17:59:25.516092Z",
     "shell.execute_reply": "2024-03-14T17:59:25.514968Z"
    },
    "papermill": {
     "duration": 0.032705,
     "end_time": "2024-03-14T17:59:25.518629",
     "exception": false,
     "start_time": "2024-03-14T17:59:25.485924",
     "status": "completed"
    },
    "tags": []
   },
   "outputs": [
    {
     "data": {
      "text/html": [
       "<div>\n",
       "<style scoped>\n",
       "    .dataframe tbody tr th:only-of-type {\n",
       "        vertical-align: middle;\n",
       "    }\n",
       "\n",
       "    .dataframe tbody tr th {\n",
       "        vertical-align: top;\n",
       "    }\n",
       "\n",
       "    .dataframe thead th {\n",
       "        text-align: right;\n",
       "    }\n",
       "</style>\n",
       "<table border=\"1\" class=\"dataframe\">\n",
       "  <thead>\n",
       "    <tr style=\"text-align: right;\">\n",
       "      <th></th>\n",
       "      <th>Id</th>\n",
       "      <th>EmployeeName</th>\n",
       "      <th>JobTitle</th>\n",
       "      <th>BasePay</th>\n",
       "      <th>OvertimePay</th>\n",
       "      <th>OtherPay</th>\n",
       "      <th>Benefits</th>\n",
       "      <th>TotalPay</th>\n",
       "      <th>TotalPayBenefits</th>\n",
       "      <th>Year</th>\n",
       "      <th>Notes</th>\n",
       "      <th>Agency</th>\n",
       "      <th>Status</th>\n",
       "    </tr>\n",
       "  </thead>\n",
       "  <tbody>\n",
       "    <tr>\n",
       "      <th>100000</th>\n",
       "      <td>100001</td>\n",
       "      <td>Monaliza V Castillo</td>\n",
       "      <td>Special Nurse</td>\n",
       "      <td>46240.64</td>\n",
       "      <td>0.0</td>\n",
       "      <td>7711.9</td>\n",
       "      <td>7893.72</td>\n",
       "      <td>53952.54</td>\n",
       "      <td>61846.26</td>\n",
       "      <td>2013</td>\n",
       "      <td>NaN</td>\n",
       "      <td>San Francisco</td>\n",
       "      <td>NaN</td>\n",
       "    </tr>\n",
       "  </tbody>\n",
       "</table>\n",
       "</div>"
      ],
      "text/plain": [
       "            Id         EmployeeName       JobTitle   BasePay  OvertimePay  \\\n",
       "100000  100001  Monaliza V Castillo  Special Nurse  46240.64          0.0   \n",
       "\n",
       "        OtherPay  Benefits  TotalPay  TotalPayBenefits  Year  Notes  \\\n",
       "100000    7711.9   7893.72  53952.54          61846.26  2013    NaN   \n",
       "\n",
       "               Agency  Status  \n",
       "100000  San Francisco     NaN  "
      ]
     },
     "execution_count": 6,
     "metadata": {},
     "output_type": "execute_result"
    }
   ],
   "source": [
    "df[100000:100001]"
   ]
  },
  {
   "cell_type": "code",
   "execution_count": 7,
   "id": "ddd446cc",
   "metadata": {
    "execution": {
     "iopub.execute_input": "2024-03-14T17:59:25.544224Z",
     "iopub.status.busy": "2024-03-14T17:59:25.543819Z",
     "iopub.status.idle": "2024-03-14T17:59:25.553050Z",
     "shell.execute_reply": "2024-03-14T17:59:25.551918Z"
    },
    "papermill": {
     "duration": 0.025084,
     "end_time": "2024-03-14T17:59:25.555507",
     "exception": false,
     "start_time": "2024-03-14T17:59:25.530423",
     "status": "completed"
    },
    "tags": []
   },
   "outputs": [
    {
     "data": {
      "text/plain": [
       "74768.32197169267"
      ]
     },
     "execution_count": 7,
     "metadata": {},
     "output_type": "execute_result"
    }
   ],
   "source": [
    "df['TotalPay'].mean()"
   ]
  },
  {
   "cell_type": "markdown",
   "id": "af583ec7",
   "metadata": {
    "papermill": {
     "duration": 0.011704,
     "end_time": "2024-03-14T17:59:25.579321",
     "exception": false,
     "start_time": "2024-03-14T17:59:25.567617",
     "status": "completed"
    },
    "tags": []
   },
   "source": [
    "** Using the .info() method to find out how many entries there are.**"
   ]
  },
  {
   "cell_type": "code",
   "execution_count": 8,
   "id": "69a5a3f6",
   "metadata": {
    "execution": {
     "iopub.execute_input": "2024-03-14T17:59:25.605746Z",
     "iopub.status.busy": "2024-03-14T17:59:25.605288Z",
     "iopub.status.idle": "2024-03-14T17:59:25.681264Z",
     "shell.execute_reply": "2024-03-14T17:59:25.679583Z"
    },
    "papermill": {
     "duration": 0.094254,
     "end_time": "2024-03-14T17:59:25.685709",
     "exception": false,
     "start_time": "2024-03-14T17:59:25.591455",
     "status": "completed"
    },
    "tags": []
   },
   "outputs": [
    {
     "name": "stdout",
     "output_type": "stream",
     "text": [
      "<class 'pandas.core.frame.DataFrame'>\n",
      "RangeIndex: 148654 entries, 0 to 148653\n",
      "Data columns (total 13 columns):\n",
      " #   Column            Non-Null Count   Dtype  \n",
      "---  ------            --------------   -----  \n",
      " 0   Id                148654 non-null  int64  \n",
      " 1   EmployeeName      148654 non-null  object \n",
      " 2   JobTitle          148654 non-null  object \n",
      " 3   BasePay           148045 non-null  float64\n",
      " 4   OvertimePay       148650 non-null  float64\n",
      " 5   OtherPay          148650 non-null  float64\n",
      " 6   Benefits          112491 non-null  float64\n",
      " 7   TotalPay          148654 non-null  float64\n",
      " 8   TotalPayBenefits  148654 non-null  float64\n",
      " 9   Year              148654 non-null  int64  \n",
      " 10  Notes             0 non-null       float64\n",
      " 11  Agency            148654 non-null  object \n",
      " 12  Status            0 non-null       float64\n",
      "dtypes: float64(8), int64(2), object(3)\n",
      "memory usage: 14.7+ MB\n"
     ]
    }
   ],
   "source": [
    "df.info()"
   ]
  },
  {
   "cell_type": "markdown",
   "id": "5831893c",
   "metadata": {
    "papermill": {
     "duration": 0.011952,
     "end_time": "2024-03-14T17:59:25.710271",
     "exception": false,
     "start_time": "2024-03-14T17:59:25.698319",
     "status": "completed"
    },
    "tags": []
   },
   "source": [
    "**The average BasePay ?**"
   ]
  },
  {
   "cell_type": "code",
   "execution_count": 9,
   "id": "0c58fcea",
   "metadata": {
    "execution": {
     "iopub.execute_input": "2024-03-14T17:59:25.739356Z",
     "iopub.status.busy": "2024-03-14T17:59:25.738913Z",
     "iopub.status.idle": "2024-03-14T17:59:25.747320Z",
     "shell.execute_reply": "2024-03-14T17:59:25.746339Z"
    },
    "papermill": {
     "duration": 0.02727,
     "end_time": "2024-03-14T17:59:25.749895",
     "exception": false,
     "start_time": "2024-03-14T17:59:25.722625",
     "status": "completed"
    },
    "tags": []
   },
   "outputs": [
    {
     "data": {
      "text/plain": [
       "66325.4488404877"
      ]
     },
     "execution_count": 9,
     "metadata": {},
     "output_type": "execute_result"
    }
   ],
   "source": [
    "df['BasePay'].mean()"
   ]
  },
  {
   "cell_type": "markdown",
   "id": "f2d69c7c",
   "metadata": {
    "papermill": {
     "duration": 0.011946,
     "end_time": "2024-03-14T17:59:25.774763",
     "exception": false,
     "start_time": "2024-03-14T17:59:25.762817",
     "status": "completed"
    },
    "tags": []
   },
   "source": [
    "**The highest amount of OvertimePay in the dataset**"
   ]
  },
  {
   "cell_type": "code",
   "execution_count": 10,
   "id": "08ce7b4d",
   "metadata": {
    "execution": {
     "iopub.execute_input": "2024-03-14T17:59:25.801429Z",
     "iopub.status.busy": "2024-03-14T17:59:25.800981Z",
     "iopub.status.idle": "2024-03-14T17:59:25.810194Z",
     "shell.execute_reply": "2024-03-14T17:59:25.808903Z"
    },
    "papermill": {
     "duration": 0.025222,
     "end_time": "2024-03-14T17:59:25.812567",
     "exception": false,
     "start_time": "2024-03-14T17:59:25.787345",
     "status": "completed"
    },
    "tags": []
   },
   "outputs": [
    {
     "data": {
      "text/plain": [
       "245131.88"
      ]
     },
     "execution_count": 10,
     "metadata": {},
     "output_type": "execute_result"
    }
   ],
   "source": [
    "df['OvertimePay'].max()"
   ]
  },
  {
   "cell_type": "markdown",
   "id": "65afbe31",
   "metadata": {
    "papermill": {
     "duration": 0.012003,
     "end_time": "2024-03-14T17:59:25.837121",
     "exception": false,
     "start_time": "2024-03-14T17:59:25.825118",
     "status": "completed"
    },
    "tags": []
   },
   "source": [
    "**The job title of  JOSEPH DRISCOLL ? Note: Use all caps, otherwise you may get an answer that doesn't match up (there is also a lowercase Joseph Driscoll).**"
   ]
  },
  {
   "cell_type": "code",
   "execution_count": 11,
   "id": "c01714eb",
   "metadata": {
    "execution": {
     "iopub.execute_input": "2024-03-14T17:59:25.864077Z",
     "iopub.status.busy": "2024-03-14T17:59:25.863628Z",
     "iopub.status.idle": "2024-03-14T17:59:25.902887Z",
     "shell.execute_reply": "2024-03-14T17:59:25.901541Z"
    },
    "papermill": {
     "duration": 0.055927,
     "end_time": "2024-03-14T17:59:25.905684",
     "exception": false,
     "start_time": "2024-03-14T17:59:25.849757",
     "status": "completed"
    },
    "tags": []
   },
   "outputs": [
    {
     "data": {
      "text/plain": [
       "24    CAPTAIN, FIRE SUPPRESSION\n",
       "Name: JobTitle, dtype: object"
      ]
     },
     "execution_count": 11,
     "metadata": {},
     "output_type": "execute_result"
    }
   ],
   "source": [
    "df[df['EmployeeName']=='JOSEPH DRISCOLL']['JobTitle']"
   ]
  },
  {
   "cell_type": "markdown",
   "id": "018fdbcd",
   "metadata": {
    "papermill": {
     "duration": 0.012299,
     "end_time": "2024-03-14T17:59:25.931085",
     "exception": false,
     "start_time": "2024-03-14T17:59:25.918786",
     "status": "completed"
    },
    "tags": []
   },
   "source": [
    "**How much does JOSEPH DRISCOLL make (including benefits)?**"
   ]
  },
  {
   "cell_type": "code",
   "execution_count": 12,
   "id": "352756a5",
   "metadata": {
    "execution": {
     "iopub.execute_input": "2024-03-14T17:59:25.958429Z",
     "iopub.status.busy": "2024-03-14T17:59:25.958014Z",
     "iopub.status.idle": "2024-03-14T17:59:25.996152Z",
     "shell.execute_reply": "2024-03-14T17:59:25.994669Z"
    },
    "papermill": {
     "duration": 0.055008,
     "end_time": "2024-03-14T17:59:25.998831",
     "exception": false,
     "start_time": "2024-03-14T17:59:25.943823",
     "status": "completed"
    },
    "tags": []
   },
   "outputs": [
    {
     "data": {
      "text/plain": [
       "24    270324.91\n",
       "Name: TotalPay, dtype: float64"
      ]
     },
     "execution_count": 12,
     "metadata": {},
     "output_type": "execute_result"
    }
   ],
   "source": [
    "df[df['EmployeeName']=='JOSEPH DRISCOLL']['TotalPay']"
   ]
  },
  {
   "cell_type": "markdown",
   "id": "527a1605",
   "metadata": {
    "papermill": {
     "duration": 0.01265,
     "end_time": "2024-03-14T17:59:26.024628",
     "exception": false,
     "start_time": "2024-03-14T17:59:26.011978",
     "status": "completed"
    },
    "tags": []
   },
   "source": [
    "**The name of highest paid person (including benefits)?**"
   ]
  },
  {
   "cell_type": "code",
   "execution_count": 13,
   "id": "85e67016",
   "metadata": {
    "execution": {
     "iopub.execute_input": "2024-03-14T17:59:26.052471Z",
     "iopub.status.busy": "2024-03-14T17:59:26.051988Z",
     "iopub.status.idle": "2024-03-14T17:59:26.071368Z",
     "shell.execute_reply": "2024-03-14T17:59:26.070057Z"
    },
    "papermill": {
     "duration": 0.036952,
     "end_time": "2024-03-14T17:59:26.074564",
     "exception": false,
     "start_time": "2024-03-14T17:59:26.037612",
     "status": "completed"
    },
    "tags": []
   },
   "outputs": [
    {
     "data": {
      "text/html": [
       "<div>\n",
       "<style scoped>\n",
       "    .dataframe tbody tr th:only-of-type {\n",
       "        vertical-align: middle;\n",
       "    }\n",
       "\n",
       "    .dataframe tbody tr th {\n",
       "        vertical-align: top;\n",
       "    }\n",
       "\n",
       "    .dataframe thead th {\n",
       "        text-align: right;\n",
       "    }\n",
       "</style>\n",
       "<table border=\"1\" class=\"dataframe\">\n",
       "  <thead>\n",
       "    <tr style=\"text-align: right;\">\n",
       "      <th></th>\n",
       "      <th>Id</th>\n",
       "      <th>EmployeeName</th>\n",
       "      <th>JobTitle</th>\n",
       "      <th>BasePay</th>\n",
       "      <th>OvertimePay</th>\n",
       "      <th>OtherPay</th>\n",
       "      <th>Benefits</th>\n",
       "      <th>TotalPay</th>\n",
       "      <th>TotalPayBenefits</th>\n",
       "      <th>Year</th>\n",
       "      <th>Notes</th>\n",
       "      <th>Agency</th>\n",
       "      <th>Status</th>\n",
       "    </tr>\n",
       "  </thead>\n",
       "  <tbody>\n",
       "    <tr>\n",
       "      <th>0</th>\n",
       "      <td>1</td>\n",
       "      <td>NATHANIEL FORD</td>\n",
       "      <td>GENERAL MANAGER-METROPOLITAN TRANSIT AUTHORITY</td>\n",
       "      <td>167411.18</td>\n",
       "      <td>0.0</td>\n",
       "      <td>400184.25</td>\n",
       "      <td>NaN</td>\n",
       "      <td>567595.43</td>\n",
       "      <td>567595.43</td>\n",
       "      <td>2011</td>\n",
       "      <td>NaN</td>\n",
       "      <td>San Francisco</td>\n",
       "      <td>NaN</td>\n",
       "    </tr>\n",
       "  </tbody>\n",
       "</table>\n",
       "</div>"
      ],
      "text/plain": [
       "   Id    EmployeeName                                        JobTitle  \\\n",
       "0   1  NATHANIEL FORD  GENERAL MANAGER-METROPOLITAN TRANSIT AUTHORITY   \n",
       "\n",
       "     BasePay  OvertimePay   OtherPay  Benefits   TotalPay  TotalPayBenefits  \\\n",
       "0  167411.18          0.0  400184.25       NaN  567595.43         567595.43   \n",
       "\n",
       "   Year  Notes         Agency  Status  \n",
       "0  2011    NaN  San Francisco     NaN  "
      ]
     },
     "execution_count": 13,
     "metadata": {},
     "output_type": "execute_result"
    }
   ],
   "source": [
    "df[df['TotalPayBenefits']==df['TotalPayBenefits'].max()]"
   ]
  },
  {
   "cell_type": "markdown",
   "id": "f96e6a0c",
   "metadata": {
    "papermill": {
     "duration": 0.013814,
     "end_time": "2024-03-14T17:59:26.102225",
     "exception": false,
     "start_time": "2024-03-14T17:59:26.088411",
     "status": "completed"
    },
    "tags": []
   },
   "source": [
    "**The name of lowest paid person (including benefits)**"
   ]
  },
  {
   "cell_type": "code",
   "execution_count": 14,
   "id": "8687d605",
   "metadata": {
    "execution": {
     "iopub.execute_input": "2024-03-14T17:59:26.132624Z",
     "iopub.status.busy": "2024-03-14T17:59:26.131291Z",
     "iopub.status.idle": "2024-03-14T17:59:26.150871Z",
     "shell.execute_reply": "2024-03-14T17:59:26.149697Z"
    },
    "papermill": {
     "duration": 0.037435,
     "end_time": "2024-03-14T17:59:26.153529",
     "exception": false,
     "start_time": "2024-03-14T17:59:26.116094",
     "status": "completed"
    },
    "tags": []
   },
   "outputs": [
    {
     "data": {
      "text/html": [
       "<div>\n",
       "<style scoped>\n",
       "    .dataframe tbody tr th:only-of-type {\n",
       "        vertical-align: middle;\n",
       "    }\n",
       "\n",
       "    .dataframe tbody tr th {\n",
       "        vertical-align: top;\n",
       "    }\n",
       "\n",
       "    .dataframe thead th {\n",
       "        text-align: right;\n",
       "    }\n",
       "</style>\n",
       "<table border=\"1\" class=\"dataframe\">\n",
       "  <thead>\n",
       "    <tr style=\"text-align: right;\">\n",
       "      <th></th>\n",
       "      <th>Id</th>\n",
       "      <th>EmployeeName</th>\n",
       "      <th>JobTitle</th>\n",
       "      <th>BasePay</th>\n",
       "      <th>OvertimePay</th>\n",
       "      <th>OtherPay</th>\n",
       "      <th>Benefits</th>\n",
       "      <th>TotalPay</th>\n",
       "      <th>TotalPayBenefits</th>\n",
       "      <th>Year</th>\n",
       "      <th>Notes</th>\n",
       "      <th>Agency</th>\n",
       "      <th>Status</th>\n",
       "    </tr>\n",
       "  </thead>\n",
       "  <tbody>\n",
       "    <tr>\n",
       "      <th>148653</th>\n",
       "      <td>148654</td>\n",
       "      <td>Joe Lopez</td>\n",
       "      <td>Counselor, Log Cabin Ranch</td>\n",
       "      <td>0.0</td>\n",
       "      <td>0.0</td>\n",
       "      <td>-618.13</td>\n",
       "      <td>0.0</td>\n",
       "      <td>-618.13</td>\n",
       "      <td>-618.13</td>\n",
       "      <td>2014</td>\n",
       "      <td>NaN</td>\n",
       "      <td>San Francisco</td>\n",
       "      <td>NaN</td>\n",
       "    </tr>\n",
       "  </tbody>\n",
       "</table>\n",
       "</div>"
      ],
      "text/plain": [
       "            Id EmployeeName                    JobTitle  BasePay  OvertimePay  \\\n",
       "148653  148654    Joe Lopez  Counselor, Log Cabin Ranch      0.0          0.0   \n",
       "\n",
       "        OtherPay  Benefits  TotalPay  TotalPayBenefits  Year  Notes  \\\n",
       "148653   -618.13       0.0   -618.13           -618.13  2014    NaN   \n",
       "\n",
       "               Agency  Status  \n",
       "148653  San Francisco     NaN  "
      ]
     },
     "execution_count": 14,
     "metadata": {},
     "output_type": "execute_result"
    }
   ],
   "source": [
    "df[df['TotalPayBenefits']==df['TotalPayBenefits'].min()]\n",
    "#as the employee is notworking he has a 0 baspay & he has the lowest pay among other"
   ]
  },
  {
   "cell_type": "markdown",
   "id": "a791c7a9",
   "metadata": {
    "papermill": {
     "duration": 0.012976,
     "end_time": "2024-03-14T17:59:26.180182",
     "exception": false,
     "start_time": "2024-03-14T17:59:26.167206",
     "status": "completed"
    },
    "tags": []
   },
   "source": [
    "**The average (mean) BasePay of all employees per year(2011-2014)**"
   ]
  },
  {
   "cell_type": "code",
   "execution_count": 15,
   "id": "6b47e482",
   "metadata": {
    "execution": {
     "iopub.execute_input": "2024-03-14T17:59:26.210822Z",
     "iopub.status.busy": "2024-03-14T17:59:26.209924Z",
     "iopub.status.idle": "2024-03-14T17:59:26.227608Z",
     "shell.execute_reply": "2024-03-14T17:59:26.226245Z"
    },
    "papermill": {
     "duration": 0.035731,
     "end_time": "2024-03-14T17:59:26.230258",
     "exception": false,
     "start_time": "2024-03-14T17:59:26.194527",
     "status": "completed"
    },
    "tags": []
   },
   "outputs": [
    {
     "data": {
      "text/plain": [
       "Year\n",
       "2011    63595.956517\n",
       "2012    65436.406857\n",
       "2013    69630.030216\n",
       "2014    66564.421924\n",
       "Name: BasePay, dtype: float64"
      ]
     },
     "execution_count": 15,
     "metadata": {},
     "output_type": "execute_result"
    }
   ],
   "source": [
    "df[['Year','BasePay']].groupby(['Year']).mean()['BasePay']"
   ]
  },
  {
   "cell_type": "markdown",
   "id": "27d3b7d5",
   "metadata": {
    "papermill": {
     "duration": 0.013266,
     "end_time": "2024-03-14T17:59:26.257336",
     "exception": false,
     "start_time": "2024-03-14T17:59:26.244070",
     "status": "completed"
    },
    "tags": []
   },
   "source": [
    "**Unique job titles**"
   ]
  },
  {
   "cell_type": "code",
   "execution_count": 16,
   "id": "bf4e0cf7",
   "metadata": {
    "execution": {
     "iopub.execute_input": "2024-03-14T17:59:26.286429Z",
     "iopub.status.busy": "2024-03-14T17:59:26.285963Z",
     "iopub.status.idle": "2024-03-14T17:59:26.310165Z",
     "shell.execute_reply": "2024-03-14T17:59:26.308866Z"
    },
    "papermill": {
     "duration": 0.042028,
     "end_time": "2024-03-14T17:59:26.313036",
     "exception": false,
     "start_time": "2024-03-14T17:59:26.271008",
     "status": "completed"
    },
    "tags": []
   },
   "outputs": [
    {
     "data": {
      "text/plain": [
       "2159"
      ]
     },
     "execution_count": 16,
     "metadata": {},
     "output_type": "execute_result"
    }
   ],
   "source": [
    "(df['JobTitle'].nunique())"
   ]
  },
  {
   "cell_type": "markdown",
   "id": "069d0e52",
   "metadata": {
    "papermill": {
     "duration": 0.013297,
     "end_time": "2024-03-14T17:59:26.340318",
     "exception": false,
     "start_time": "2024-03-14T17:59:26.327021",
     "status": "completed"
    },
    "tags": []
   },
   "source": [
    "**The top 5 most common jobs**"
   ]
  },
  {
   "cell_type": "code",
   "execution_count": 17,
   "id": "66c4fab6",
   "metadata": {
    "execution": {
     "iopub.execute_input": "2024-03-14T17:59:26.370046Z",
     "iopub.status.busy": "2024-03-14T17:59:26.369616Z",
     "iopub.status.idle": "2024-03-14T17:59:26.406058Z",
     "shell.execute_reply": "2024-03-14T17:59:26.404508Z"
    },
    "papermill": {
     "duration": 0.054448,
     "end_time": "2024-03-14T17:59:26.408921",
     "exception": false,
     "start_time": "2024-03-14T17:59:26.354473",
     "status": "completed"
    },
    "tags": []
   },
   "outputs": [
    {
     "data": {
      "text/plain": [
       "JobTitle\n",
       "Transit Operator                7036\n",
       "Special Nurse                   4389\n",
       "Registered Nurse                3736\n",
       "Public Svc Aide-Public Works    2518\n",
       "Police Officer 3                2421\n",
       "Name: count, dtype: int64"
      ]
     },
     "execution_count": 17,
     "metadata": {},
     "output_type": "execute_result"
    }
   ],
   "source": [
    "df['JobTitle'].value_counts()[:5]"
   ]
  },
  {
   "cell_type": "markdown",
   "id": "d9ca5a70",
   "metadata": {
    "papermill": {
     "duration": 0.013495,
     "end_time": "2024-03-14T17:59:26.436702",
     "exception": false,
     "start_time": "2024-03-14T17:59:26.423207",
     "status": "completed"
    },
    "tags": []
   },
   "source": [
    "**The Job Titles were represented by only one person in 2013? (e.g. Job Titles with only one occurence in 2013)**"
   ]
  },
  {
   "cell_type": "code",
   "execution_count": 18,
   "id": "065de546",
   "metadata": {
    "execution": {
     "iopub.execute_input": "2024-03-14T17:59:26.466738Z",
     "iopub.status.busy": "2024-03-14T17:59:26.466307Z",
     "iopub.status.idle": "2024-03-14T17:59:26.487737Z",
     "shell.execute_reply": "2024-03-14T17:59:26.486760Z"
    },
    "papermill": {
     "duration": 0.039439,
     "end_time": "2024-03-14T17:59:26.490389",
     "exception": false,
     "start_time": "2024-03-14T17:59:26.450950",
     "status": "completed"
    },
    "tags": []
   },
   "outputs": [
    {
     "data": {
      "text/plain": [
       "202"
      ]
     },
     "execution_count": 18,
     "metadata": {},
     "output_type": "execute_result"
    }
   ],
   "source": [
    "sum(df[df['Year']==2013]['JobTitle'].value_counts()==1)"
   ]
  },
  {
   "cell_type": "markdown",
   "id": "446be162",
   "metadata": {
    "papermill": {
     "duration": 0.01358,
     "end_time": "2024-03-14T17:59:26.518299",
     "exception": false,
     "start_time": "2024-03-14T17:59:26.504719",
     "status": "completed"
    },
    "tags": []
   },
   "source": [
    "**No of people have the word Chief in their job title**"
   ]
  },
  {
   "cell_type": "code",
   "execution_count": 19,
   "id": "78232765",
   "metadata": {
    "execution": {
     "iopub.execute_input": "2024-03-14T17:59:26.548722Z",
     "iopub.status.busy": "2024-03-14T17:59:26.548011Z",
     "iopub.status.idle": "2024-03-14T17:59:27.131207Z",
     "shell.execute_reply": "2024-03-14T17:59:27.129899Z"
    },
    "papermill": {
     "duration": 0.601655,
     "end_time": "2024-03-14T17:59:27.134084",
     "exception": false,
     "start_time": "2024-03-14T17:59:26.532429",
     "status": "completed"
    },
    "tags": []
   },
   "outputs": [
    {
     "data": {
      "text/plain": [
       "477"
      ]
     },
     "execution_count": 19,
     "metadata": {},
     "output_type": "execute_result"
    }
   ],
   "source": [
    "def find_chief(job_title):    \n",
    "    if 'chief' in job_title.lower().split():\n",
    "        return True\n",
    "    else:\n",
    "        return False\n",
    "\n",
    "sal = pd.read_csv('/kaggle/input/salaries-analysis/Salaries.csv')\n",
    "\n",
    "sum(sal['JobTitle'].apply(lambda x: find_chief(x)))"
   ]
  },
  {
   "cell_type": "markdown",
   "id": "cc742b4c",
   "metadata": {
    "papermill": {
     "duration": 0.014286,
     "end_time": "2024-03-14T17:59:27.163857",
     "exception": false,
     "start_time": "2024-03-14T17:59:27.149571",
     "status": "completed"
    },
    "tags": []
   },
   "source": [
    "**There a correlation between length of the Job Title string and Salary**"
   ]
  },
  {
   "cell_type": "code",
   "execution_count": 20,
   "id": "512befe1",
   "metadata": {
    "execution": {
     "iopub.execute_input": "2024-03-14T17:59:27.194161Z",
     "iopub.status.busy": "2024-03-14T17:59:27.193733Z",
     "iopub.status.idle": "2024-03-14T17:59:27.296647Z",
     "shell.execute_reply": "2024-03-14T17:59:27.295161Z"
    },
    "papermill": {
     "duration": 0.121581,
     "end_time": "2024-03-14T17:59:27.299724",
     "exception": false,
     "start_time": "2024-03-14T17:59:27.178143",
     "status": "completed"
    },
    "tags": []
   },
   "outputs": [],
   "source": [
    "sal['title_len'] = sal['JobTitle'].str.len()"
   ]
  },
  {
   "cell_type": "code",
   "execution_count": 21,
   "id": "75245fc5",
   "metadata": {
    "execution": {
     "iopub.execute_input": "2024-03-14T17:59:27.331077Z",
     "iopub.status.busy": "2024-03-14T17:59:27.329775Z",
     "iopub.status.idle": "2024-03-14T17:59:27.348640Z",
     "shell.execute_reply": "2024-03-14T17:59:27.347763Z"
    },
    "papermill": {
     "duration": 0.036899,
     "end_time": "2024-03-14T17:59:27.350995",
     "exception": false,
     "start_time": "2024-03-14T17:59:27.314096",
     "status": "completed"
    },
    "tags": []
   },
   "outputs": [
    {
     "data": {
      "text/html": [
       "<div>\n",
       "<style scoped>\n",
       "    .dataframe tbody tr th:only-of-type {\n",
       "        vertical-align: middle;\n",
       "    }\n",
       "\n",
       "    .dataframe tbody tr th {\n",
       "        vertical-align: top;\n",
       "    }\n",
       "\n",
       "    .dataframe thead th {\n",
       "        text-align: right;\n",
       "    }\n",
       "</style>\n",
       "<table border=\"1\" class=\"dataframe\">\n",
       "  <thead>\n",
       "    <tr style=\"text-align: right;\">\n",
       "      <th></th>\n",
       "      <th>title_len</th>\n",
       "      <th>TotalPayBenefits</th>\n",
       "    </tr>\n",
       "  </thead>\n",
       "  <tbody>\n",
       "    <tr>\n",
       "      <th>title_len</th>\n",
       "      <td>1.000000</td>\n",
       "      <td>-0.036878</td>\n",
       "    </tr>\n",
       "    <tr>\n",
       "      <th>TotalPayBenefits</th>\n",
       "      <td>-0.036878</td>\n",
       "      <td>1.000000</td>\n",
       "    </tr>\n",
       "  </tbody>\n",
       "</table>\n",
       "</div>"
      ],
      "text/plain": [
       "                  title_len  TotalPayBenefits\n",
       "title_len          1.000000         -0.036878\n",
       "TotalPayBenefits  -0.036878          1.000000"
      ]
     },
     "execution_count": 21,
     "metadata": {},
     "output_type": "execute_result"
    }
   ],
   "source": [
    "sal[['title_len','TotalPayBenefits']].corr()"
   ]
  }
 ],
 "metadata": {
  "kaggle": {
   "accelerator": "none",
   "dataSources": [
    {
     "datasetId": 4600072,
     "sourceId": 7845464,
     "sourceType": "datasetVersion"
    }
   ],
   "dockerImageVersionId": 30664,
   "isGpuEnabled": false,
   "isInternetEnabled": true,
   "language": "python",
   "sourceType": "notebook"
  },
  "kernelspec": {
   "display_name": "Python 3",
   "language": "python",
   "name": "python3"
  },
  "language_info": {
   "codemirror_mode": {
    "name": "ipython",
    "version": 3
   },
   "file_extension": ".py",
   "mimetype": "text/x-python",
   "name": "python",
   "nbconvert_exporter": "python",
   "pygments_lexer": "ipython3",
   "version": "3.10.13"
  },
  "papermill": {
   "default_parameters": {},
   "duration": 7.288102,
   "end_time": "2024-03-14T17:59:27.887921",
   "environment_variables": {},
   "exception": null,
   "input_path": "__notebook__.ipynb",
   "output_path": "__notebook__.ipynb",
   "parameters": {},
   "start_time": "2024-03-14T17:59:20.599819",
   "version": "2.5.0"
  }
 },
 "nbformat": 4,
 "nbformat_minor": 5
}
